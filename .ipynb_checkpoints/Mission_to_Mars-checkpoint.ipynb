{
 "cells": [
  {
   "cell_type": "code",
   "execution_count": null,
   "metadata": {},
   "outputs": [],
   "source": []
  }
 ],
 "metadata": {
  "kernelspec": {
   "display_name": "Python 3.10.6 ('data-b-10-missiontomars')",
   "language": "python",
   "name": "python3"
  },
  "language_info": {
   "name": "python",
   "version": "3.10.6"
  },
  "vscode": {
   "interpreter": {
    "hash": "0487a97076360b752c5098c2a8d1cb75238132771a5df5156f2fe79d0ce29279"
   }
  }
 },
 "nbformat": 4,
 "nbformat_minor": 5
}
