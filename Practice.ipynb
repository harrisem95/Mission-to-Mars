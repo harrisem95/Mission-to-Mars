{
 "cells": [
  {
   "cell_type": "code",
   "execution_count": 27,
   "id": "6d114612",
   "metadata": {},
   "outputs": [],
   "source": [
    "from splinter import Browser\n",
    "from bs4 import BeautifulSoup as soup\n",
    "from webdriver_manager.chrome import ChromeDriverManager\n",
    "import requests\n",
    "import pandas as pd"
   ]
  },
  {
   "cell_type": "code",
   "execution_count": 5,
   "id": "3cf0af8e",
   "metadata": {},
   "outputs": [],
   "source": [
    "# Set up Splinter\n",
    "executable_path = {'executable_path': ChromeDriverManager().install()}\n",
    "browser = Browser('chrome', **executable_path, headless=False)"
   ]
  },
  {
   "cell_type": "code",
   "execution_count": 6,
   "id": "a2326391",
   "metadata": {},
   "outputs": [],
   "source": [
    "#Visit the Quotes to Scrape site\n",
    "url = 'http://quotes.toscrape.com/'\n",
    "browser.visit(url)"
   ]
  },
  {
   "cell_type": "code",
   "execution_count": 7,
   "id": "126c6e80",
   "metadata": {},
   "outputs": [],
   "source": [
    "#Parse the HTML \n",
    "html = browser.html\n",
    "html_soup = soup(html, 'html.parser')"
   ]
  },
  {
   "cell_type": "code",
   "execution_count": 8,
   "id": "58590761",
   "metadata": {},
   "outputs": [
    {
     "data": {
      "text/plain": [
       "'Top Ten tags'"
      ]
     },
     "execution_count": 8,
     "metadata": {},
     "output_type": "execute_result"
    }
   ],
   "source": [
    "#Scrape the Title\n",
    "title = html_soup.find('h2').text\n",
    "title"
   ]
  },
  {
   "cell_type": "code",
   "execution_count": 9,
   "id": "a18da9e4",
   "metadata": {},
   "outputs": [
    {
     "name": "stdout",
     "output_type": "stream",
     "text": [
      "love\n",
      "inspirational\n",
      "life\n",
      "humor\n",
      "books\n",
      "reading\n",
      "friendship\n",
      "friends\n",
      "truth\n",
      "simile\n"
     ]
    }
   ],
   "source": [
    "#Scrape the top ten tags\n",
    "tag_box = html_soup.find('div', class_='tags-box')\n",
    "#tag_box\n",
    "tags = tag_box.find_all('a', class_='tag')\n",
    "\n",
    "for tag in tags:\n",
    "    word = tag.text\n",
    "    print(word)"
   ]
  },
  {
   "cell_type": "code",
   "execution_count": 10,
   "id": "68b81295",
   "metadata": {},
   "outputs": [],
   "source": [
    "url = 'http://quotes.toscrape.com/'\n",
    "browser.visit(url)"
   ]
  },
  {
   "cell_type": "code",
   "execution_count": 23,
   "id": "92154e90",
   "metadata": {},
   "outputs": [
    {
     "name": "stdout",
     "output_type": "stream",
     "text": [
      "page: 1 ----------\n",
      "“The truth.\" Dumbledore sighed. \"It is a beautiful and terrible thing, and should therefore be treated with great caution.”\n",
      "page: 1 ----------\n",
      "“I'm the one that's got to die when it's time for me to die, so let me live my life the way I want to.”\n",
      "page: 1 ----------\n",
      "“To die will be an awfully big adventure.”\n",
      "page: 1 ----------\n",
      "“It takes courage to grow up and become who you really are.”\n",
      "page: 1 ----------\n",
      "“But better to get hurt by the truth than comforted with a lie.”\n",
      "page: 1 ----------\n",
      "“You never really understand a person until you consider things from his point of view... Until you climb inside of his skin and walk around in it.”\n",
      "page: 1 ----------\n",
      "“You have to write the book that wants to be written. And if the book will be too difficult for grown-ups, then you write it for children.”\n",
      "page: 1 ----------\n",
      "“Never tell the truth to people who are not worthy of it.”\n",
      "page: 1 ----------\n",
      "“A person's a person, no matter how small.”\n",
      "page: 1 ----------\n",
      "“... a mind needs books as a sword needs a whetstone, if it is to keep its edge.”\n",
      "page: 2 ----------\n",
      "“The truth.\" Dumbledore sighed. \"It is a beautiful and terrible thing, and should therefore be treated with great caution.”\n",
      "page: 2 ----------\n",
      "“I'm the one that's got to die when it's time for me to die, so let me live my life the way I want to.”\n",
      "page: 2 ----------\n",
      "“To die will be an awfully big adventure.”\n",
      "page: 2 ----------\n",
      "“It takes courage to grow up and become who you really are.”\n",
      "page: 2 ----------\n",
      "“But better to get hurt by the truth than comforted with a lie.”\n",
      "page: 2 ----------\n",
      "“You never really understand a person until you consider things from his point of view... Until you climb inside of his skin and walk around in it.”\n",
      "page: 2 ----------\n",
      "“You have to write the book that wants to be written. And if the book will be too difficult for grown-ups, then you write it for children.”\n",
      "page: 2 ----------\n",
      "“Never tell the truth to people who are not worthy of it.”\n",
      "page: 2 ----------\n",
      "“A person's a person, no matter how small.”\n",
      "page: 2 ----------\n",
      "“... a mind needs books as a sword needs a whetstone, if it is to keep its edge.”\n",
      "page: 3 ----------\n",
      "“The truth.\" Dumbledore sighed. \"It is a beautiful and terrible thing, and should therefore be treated with great caution.”\n",
      "page: 3 ----------\n",
      "“I'm the one that's got to die when it's time for me to die, so let me live my life the way I want to.”\n",
      "page: 3 ----------\n",
      "“To die will be an awfully big adventure.”\n",
      "page: 3 ----------\n",
      "“It takes courage to grow up and become who you really are.”\n",
      "page: 3 ----------\n",
      "“But better to get hurt by the truth than comforted with a lie.”\n",
      "page: 3 ----------\n",
      "“You never really understand a person until you consider things from his point of view... Until you climb inside of his skin and walk around in it.”\n",
      "page: 3 ----------\n",
      "“You have to write the book that wants to be written. And if the book will be too difficult for grown-ups, then you write it for children.”\n",
      "page: 3 ----------\n",
      "“Never tell the truth to people who are not worthy of it.”\n",
      "page: 3 ----------\n",
      "“A person's a person, no matter how small.”\n",
      "page: 3 ----------\n",
      "“... a mind needs books as a sword needs a whetstone, if it is to keep its edge.”\n",
      "page: 4 ----------\n",
      "“The truth.\" Dumbledore sighed. \"It is a beautiful and terrible thing, and should therefore be treated with great caution.”\n",
      "page: 4 ----------\n",
      "“I'm the one that's got to die when it's time for me to die, so let me live my life the way I want to.”\n",
      "page: 4 ----------\n",
      "“To die will be an awfully big adventure.”\n",
      "page: 4 ----------\n",
      "“It takes courage to grow up and become who you really are.”\n",
      "page: 4 ----------\n",
      "“But better to get hurt by the truth than comforted with a lie.”\n",
      "page: 4 ----------\n",
      "“You never really understand a person until you consider things from his point of view... Until you climb inside of his skin and walk around in it.”\n",
      "page: 4 ----------\n",
      "“You have to write the book that wants to be written. And if the book will be too difficult for grown-ups, then you write it for children.”\n",
      "page: 4 ----------\n",
      "“Never tell the truth to people who are not worthy of it.”\n",
      "page: 4 ----------\n",
      "“A person's a person, no matter how small.”\n",
      "page: 4 ----------\n",
      "“... a mind needs books as a sword needs a whetstone, if it is to keep its edge.”\n",
      "page: 5 ----------\n",
      "“The truth.\" Dumbledore sighed. \"It is a beautiful and terrible thing, and should therefore be treated with great caution.”\n",
      "page: 5 ----------\n",
      "“I'm the one that's got to die when it's time for me to die, so let me live my life the way I want to.”\n",
      "page: 5 ----------\n",
      "“To die will be an awfully big adventure.”\n",
      "page: 5 ----------\n",
      "“It takes courage to grow up and become who you really are.”\n",
      "page: 5 ----------\n",
      "“But better to get hurt by the truth than comforted with a lie.”\n",
      "page: 5 ----------\n",
      "“You never really understand a person until you consider things from his point of view... Until you climb inside of his skin and walk around in it.”\n",
      "page: 5 ----------\n",
      "“You have to write the book that wants to be written. And if the book will be too difficult for grown-ups, then you write it for children.”\n",
      "page: 5 ----------\n",
      "“Never tell the truth to people who are not worthy of it.”\n",
      "page: 5 ----------\n",
      "“A person's a person, no matter how small.”\n",
      "page: 5 ----------\n",
      "“... a mind needs books as a sword needs a whetstone, if it is to keep its edge.”\n"
     ]
    }
   ],
   "source": [
    "for x in range(1, 6):\n",
    "   html = browser.html\n",
    "   quote_soup = soup (html, 'html.parser')\n",
    "   quotes = quote_soup.find_all('span', class_='text')\n",
    "    \n",
    "   for quote in quotes:\n",
    "      print('page:', x, '----------')\n",
    "      print(quote.text)\n",
    "   browser.links.find_by_partial_text('Next')"
   ]
  },
  {
   "cell_type": "code",
   "execution_count": 24,
   "id": "28c9d822",
   "metadata": {},
   "outputs": [],
   "source": [
    "#Visit the Quotes to Scrape site\n",
    "url = 'http://books.toscrape.com/'\n",
    "browser.visit(url)"
   ]
  },
  {
   "cell_type": "code",
   "execution_count": 28,
   "id": "f8b2c8ae",
   "metadata": {},
   "outputs": [
    {
     "name": "stdout",
     "output_type": "stream",
     "text": [
      "index.html\n",
      "index.html\n",
      "catalogue/category/books_1/index.html\n",
      "catalogue/category/books/travel_2/index.html\n",
      "catalogue/category/books/mystery_3/index.html\n",
      "catalogue/category/books/historical-fiction_4/index.html\n",
      "catalogue/category/books/sequential-art_5/index.html\n",
      "catalogue/category/books/classics_6/index.html\n",
      "catalogue/category/books/philosophy_7/index.html\n",
      "catalogue/category/books/romance_8/index.html\n",
      "catalogue/category/books/womens-fiction_9/index.html\n",
      "catalogue/category/books/fiction_10/index.html\n",
      "catalogue/category/books/childrens_11/index.html\n",
      "catalogue/category/books/religion_12/index.html\n",
      "catalogue/category/books/nonfiction_13/index.html\n",
      "catalogue/category/books/music_14/index.html\n",
      "catalogue/category/books/default_15/index.html\n",
      "catalogue/category/books/science-fiction_16/index.html\n",
      "catalogue/category/books/sports-and-games_17/index.html\n",
      "catalogue/category/books/add-a-comment_18/index.html\n",
      "catalogue/category/books/fantasy_19/index.html\n",
      "catalogue/category/books/new-adult_20/index.html\n",
      "catalogue/category/books/young-adult_21/index.html\n",
      "catalogue/category/books/science_22/index.html\n",
      "catalogue/category/books/poetry_23/index.html\n",
      "catalogue/category/books/paranormal_24/index.html\n",
      "catalogue/category/books/art_25/index.html\n",
      "catalogue/category/books/psychology_26/index.html\n",
      "catalogue/category/books/autobiography_27/index.html\n",
      "catalogue/category/books/parenting_28/index.html\n",
      "catalogue/category/books/adult-fiction_29/index.html\n",
      "catalogue/category/books/humor_30/index.html\n",
      "catalogue/category/books/horror_31/index.html\n",
      "catalogue/category/books/history_32/index.html\n",
      "catalogue/category/books/food-and-drink_33/index.html\n",
      "catalogue/category/books/christian-fiction_34/index.html\n",
      "catalogue/category/books/business_35/index.html\n",
      "catalogue/category/books/biography_36/index.html\n",
      "catalogue/category/books/thriller_37/index.html\n",
      "catalogue/category/books/contemporary_38/index.html\n",
      "catalogue/category/books/spirituality_39/index.html\n",
      "catalogue/category/books/academic_40/index.html\n",
      "catalogue/category/books/self-help_41/index.html\n",
      "catalogue/category/books/historical_42/index.html\n",
      "catalogue/category/books/christian_43/index.html\n",
      "catalogue/category/books/suspense_44/index.html\n",
      "catalogue/category/books/short-stories_45/index.html\n",
      "catalogue/category/books/novels_46/index.html\n",
      "catalogue/category/books/health_47/index.html\n",
      "catalogue/category/books/politics_48/index.html\n",
      "catalogue/category/books/cultural_49/index.html\n",
      "catalogue/category/books/erotica_50/index.html\n",
      "catalogue/category/books/crime_51/index.html\n",
      "catalogue/a-light-in-the-attic_1000/index.html\n",
      "catalogue/a-light-in-the-attic_1000/index.html\n",
      "catalogue/tipping-the-velvet_999/index.html\n",
      "catalogue/tipping-the-velvet_999/index.html\n",
      "catalogue/soumission_998/index.html\n",
      "catalogue/soumission_998/index.html\n",
      "catalogue/sharp-objects_997/index.html\n",
      "catalogue/sharp-objects_997/index.html\n",
      "catalogue/sapiens-a-brief-history-of-humankind_996/index.html\n",
      "catalogue/sapiens-a-brief-history-of-humankind_996/index.html\n",
      "catalogue/the-requiem-red_995/index.html\n",
      "catalogue/the-requiem-red_995/index.html\n",
      "catalogue/the-dirty-little-secrets-of-getting-your-dream-job_994/index.html\n",
      "catalogue/the-dirty-little-secrets-of-getting-your-dream-job_994/index.html\n",
      "catalogue/the-coming-woman-a-novel-based-on-the-life-of-the-infamous-feminist-victoria-woodhull_993/index.html\n",
      "catalogue/the-coming-woman-a-novel-based-on-the-life-of-the-infamous-feminist-victoria-woodhull_993/index.html\n",
      "catalogue/the-boys-in-the-boat-nine-americans-and-their-epic-quest-for-gold-at-the-1936-berlin-olympics_992/index.html\n",
      "catalogue/the-boys-in-the-boat-nine-americans-and-their-epic-quest-for-gold-at-the-1936-berlin-olympics_992/index.html\n",
      "catalogue/the-black-maria_991/index.html\n",
      "catalogue/the-black-maria_991/index.html\n",
      "catalogue/starving-hearts-triangular-trade-trilogy-1_990/index.html\n",
      "catalogue/starving-hearts-triangular-trade-trilogy-1_990/index.html\n",
      "catalogue/shakespeares-sonnets_989/index.html\n",
      "catalogue/shakespeares-sonnets_989/index.html\n",
      "catalogue/set-me-free_988/index.html\n",
      "catalogue/set-me-free_988/index.html\n",
      "catalogue/scott-pilgrims-precious-little-life-scott-pilgrim-1_987/index.html\n",
      "catalogue/scott-pilgrims-precious-little-life-scott-pilgrim-1_987/index.html\n",
      "catalogue/rip-it-up-and-start-again_986/index.html\n",
      "catalogue/rip-it-up-and-start-again_986/index.html\n",
      "catalogue/our-band-could-be-your-life-scenes-from-the-american-indie-underground-1981-1991_985/index.html\n",
      "catalogue/our-band-could-be-your-life-scenes-from-the-american-indie-underground-1981-1991_985/index.html\n",
      "catalogue/olio_984/index.html\n",
      "catalogue/olio_984/index.html\n",
      "catalogue/mesaerion-the-best-science-fiction-stories-1800-1849_983/index.html\n",
      "catalogue/mesaerion-the-best-science-fiction-stories-1800-1849_983/index.html\n",
      "catalogue/libertarianism-for-beginners_982/index.html\n",
      "catalogue/libertarianism-for-beginners_982/index.html\n",
      "catalogue/its-only-the-himalayas_981/index.html\n",
      "catalogue/its-only-the-himalayas_981/index.html\n",
      "catalogue/page-2.html\n"
     ]
    }
   ],
   "source": [
    "#Scrape the book urls\n",
    "reqs = requests.get(url)\n",
    "soup = soup(reqs.text,'html.parser')\n",
    "\n",
    "urls = []\n",
    "for link in soup.find_all('a'):\n",
    "    print(link.get('href'))"
   ]
  },
  {
   "cell_type": "code",
   "execution_count": null,
   "id": "3a010e96",
   "metadata": {},
   "outputs": [],
   "source": []
  }
 ],
 "metadata": {
  "kernelspec": {
   "display_name": "Python 3 (ipykernel)",
   "language": "python",
   "name": "python3"
  },
  "language_info": {
   "codemirror_mode": {
    "name": "ipython",
    "version": 3
   },
   "file_extension": ".py",
   "mimetype": "text/x-python",
   "name": "python",
   "nbconvert_exporter": "python",
   "pygments_lexer": "ipython3",
   "version": "3.9.12"
  }
 },
 "nbformat": 4,
 "nbformat_minor": 5
}
